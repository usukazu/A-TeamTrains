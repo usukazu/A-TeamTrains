{
 "cells": [
  {
   "cell_type": "code",
   "execution_count": 1,
   "metadata": {},
   "outputs": [],
   "source": [
    "import os\n",
    "import sys\n",
    "import pathlib\n",
    "import json\n",
    "import itertools\n",
    "import codecs\n",
    "import requests\n",
    "import copy"
   ]
  },
  {
   "cell_type": "code",
   "execution_count": 2,
   "metadata": {},
   "outputs": [
    {
     "ename": "KeyError",
     "evalue": "0",
     "output_type": "error",
     "traceback": [
      "\u001b[1;31m---------------------------------------------------------------------------\u001b[0m",
      "\u001b[1;31mKeyError\u001b[0m                                  Traceback (most recent call last)",
      "\u001b[1;32m<ipython-input-2-b0659f43fa45>\u001b[0m in \u001b[0;36m<module>\u001b[1;34m\u001b[0m\n\u001b[0;32m     77\u001b[0m     \u001b[0mexp\u001b[0m\u001b[1;33m.\u001b[0m\u001b[0mmkdir\u001b[0m\u001b[1;33m(\u001b[0m\u001b[1;33m)\u001b[0m\u001b[1;33m\u001b[0m\u001b[1;33m\u001b[0m\u001b[0m\n\u001b[0;32m     78\u001b[0m \u001b[1;33m\u001b[0m\u001b[0m\n\u001b[1;32m---> 79\u001b[1;33m \u001b[0mjson_make\u001b[0m\u001b[1;33m(\u001b[0m\u001b[1;33m)\u001b[0m\u001b[1;33m\u001b[0m\u001b[1;33m\u001b[0m\u001b[0m\n\u001b[0m",
      "\u001b[1;32m<ipython-input-2-b0659f43fa45>\u001b[0m in \u001b[0;36mjson_make\u001b[1;34m()\u001b[0m\n\u001b[0;32m     27\u001b[0m         \u001b[0mlinelist\u001b[0m \u001b[1;33m=\u001b[0m \u001b[0mdata\u001b[0m\u001b[1;33m[\u001b[0m\u001b[1;34m'ResultSet'\u001b[0m\u001b[1;33m]\u001b[0m\u001b[1;33m[\u001b[0m\u001b[1;34m'TimeTable'\u001b[0m\u001b[1;33m]\u001b[0m\u001b[1;33m\u001b[0m\u001b[1;33m\u001b[0m\u001b[0m\n\u001b[0;32m     28\u001b[0m \u001b[1;33m\u001b[0m\u001b[0m\n\u001b[1;32m---> 29\u001b[1;33m         \u001b[0mresultset\u001b[0m\u001b[1;33m[\u001b[0m\u001b[1;34m\"Station\"\u001b[0m\u001b[1;33m]\u001b[0m\u001b[1;33m=\u001b[0m\u001b[0mlinelist\u001b[0m\u001b[1;33m[\u001b[0m\u001b[1;36m0\u001b[0m\u001b[1;33m]\u001b[0m\u001b[1;33m[\u001b[0m\u001b[1;34m\"Station\"\u001b[0m\u001b[1;33m]\u001b[0m\u001b[1;33m[\u001b[0m\u001b[1;34m\"Name\"\u001b[0m\u001b[1;33m]\u001b[0m\u001b[1;33m\u001b[0m\u001b[1;33m\u001b[0m\u001b[0m\n\u001b[0m\u001b[0;32m     30\u001b[0m         \u001b[0mresultset\u001b[0m\u001b[1;33m[\u001b[0m\u001b[1;34m\"Sum\"\u001b[0m\u001b[1;33m]\u001b[0m\u001b[1;33m=\u001b[0m\u001b[1;33m[\u001b[0m\u001b[1;33m]\u001b[0m\u001b[1;33m\u001b[0m\u001b[1;33m\u001b[0m\u001b[0m\n\u001b[0;32m     31\u001b[0m         \u001b[0mresultset\u001b[0m\u001b[1;33m[\u001b[0m\u001b[1;34m\"Linelist\"\u001b[0m\u001b[1;33m]\u001b[0m\u001b[1;33m=\u001b[0m\u001b[1;33m[\u001b[0m\u001b[1;33m]\u001b[0m\u001b[1;33m\u001b[0m\u001b[1;33m\u001b[0m\u001b[0m\n",
      "\u001b[1;31mKeyError\u001b[0m: 0"
     ]
    }
   ],
   "source": [
    "def json_make():\n",
    "    \n",
    "    date=20201117\n",
    "    \n",
    "    url=\"https://api.apigw.smt.docomo.ne.jp/ekispertCorp/v1/station?APIKEY=45714e327a445136424e74397346526346544a4d6865507a366d7a73342f334c636942663646573162322e&corporationName=%E4%BA%AC%E7%8E%8B%E9%9B%BB%E9%89%84\"\n",
    "    r = requests.get(url)\n",
    "    stadata = json.loads(r.text)\n",
    "    \n",
    "    staresult={}\n",
    "    slist= stadata['ResultSet']['Point']\n",
    "    staresult[\"Stationlist\"]=[]\n",
    "    \n",
    "    for station in slist:\n",
    "        jisho={}\n",
    "        jisho[\"Station\"]=station[\"Station\"]\n",
    "        jisho[\"Prefecture\"]=station[\"Prefecture\"]\n",
    "        jisho[\"GeoPoint\"]=station[\"GeoPoint\"]\n",
    "        stationcode=station[\"Station\"][\"code\"]\n",
    "        stasum=0\n",
    "        hourcount=[0]*24\n",
    "        \n",
    "        url=\"https://api.apigw.smt.docomo.ne.jp/ekispertCorp/v1/stationTimetable?APIKEY=45714e327a445136424e74397346526346544a4d6865507a366d7a73342f334c636942663646573162322e&date=\"+str(date)+\"&stationCode=\"+str(stationcode)\n",
    "        r = requests.get(url)\n",
    "        data = json.loads(r.text)\n",
    "        \n",
    "        resultset={}\n",
    "        linelist = data['ResultSet']['TimeTable']\n",
    "\n",
    "        resultset[\"Station\"]=linelist[0][\"Station\"][\"Name\"]\n",
    "        resultset[\"Sum\"]=[]\n",
    "        resultset[\"Linelist\"]=[]\n",
    "    \n",
    "        result={}\n",
    "        for line in linelist:\n",
    "            url=\"https://api.apigw.smt.docomo.ne.jp/ekispertCorp/v1/stationTimetable?APIKEY=45714e327a445136424e74397346526346544a4d6865507a366d7a73342f334c636942663646573162322e&stationCode=\"+str(stationcode)+\"&date=\"+str(date)+\"&code=\"+str(line['code'])\n",
    "            r = requests.get(url)\n",
    "            linedata = json.loads(r.text)\n",
    "            hour = linedata['ResultSet']['TimeTable']['HourTable']\n",
    "            result[\"Line\"]=linedata['ResultSet']['TimeTable']['Line']['Name']+linedata['ResultSet']['TimeTable']['Line']['Direction']+\"方面\"\n",
    "            result[\"Linecode\"]=linedata['ResultSet']['TimeTable']['code']\n",
    "            result[\"HourTable\"]=[]\n",
    "            gokei=0\n",
    "\n",
    "            if \"MinuteTable\" in hour:\n",
    "                result[\"HourTable\"].append({\"Hour\":hour['Hour'],\"number\":1})\n",
    "                gokei=1\n",
    "            else:\n",
    "                for h in hour:\n",
    "                    if \"MinuteTable\" in h:\n",
    "                        number=len(h['MinuteTable'])\n",
    "                        if \"Minute\" in h['MinuteTable']:number-=1\n",
    "                        result[\"HourTable\"].append({\"Hour\":h['Hour'],\"number\":str(number)})\n",
    "                        gokei+=number\n",
    "                        hourcount[int(h['Hour'])%24]+=number\n",
    "                        stasum+=number\n",
    "        \n",
    "            resultset[\"Linelist\"].append(copy.deepcopy(result))\n",
    "            resultset[\"Sum\"].append({\"Line\":linedata['ResultSet']['TimeTable']['Line']['Name']+linedata['ResultSet']['TimeTable']['Line']['Direction']+\"方面\",\"number\":str(gokei)})\n",
    "        \n",
    "        jisho[\"Sum\"]=str(stasum)\n",
    "        jisho[\"HourTable\"]=[]\n",
    "        \n",
    "        for i in range(24):\n",
    "            jisho[\"HourTable\"].append({\"Hour\":str(i),\"number\":str(hourcount[i])})\n",
    "        \n",
    "        staresult[\"Stationlist\"].append(copy.deepcopy(jisho))\n",
    "\n",
    "        expfile = codecs.open(\"./results2/s\"+str(stationcode)+\".json\", 'w', 'utf-8')\n",
    "        json.dump(resultset, expfile, indent=4, ensure_ascii=False)\n",
    "    expfile = codecs.open(\"./results2/date\"+str(date)+\".json\", 'w', 'utf-8')\n",
    "    json.dump(staresult, expfile, indent=4, ensure_ascii=False)\n",
    "\n",
    "\n",
    "# 出力フォルダがなければ作成\n",
    "exp = pathlib.Path('./results2')\n",
    "if exp.exists() is False:\n",
    "    exp.mkdir()\n",
    "\n",
    "json_make()"
   ]
  },
  {
   "cell_type": "code",
   "execution_count": null,
   "metadata": {},
   "outputs": [],
   "source": []
  }
 ],
 "metadata": {
  "kernelspec": {
   "display_name": "Python 3",
   "language": "python",
   "name": "python3"
  },
  "language_info": {
   "codemirror_mode": {
    "name": "ipython",
    "version": 3
   },
   "file_extension": ".py",
   "mimetype": "text/x-python",
   "name": "python",
   "nbconvert_exporter": "python",
   "pygments_lexer": "ipython3",
   "version": "3.7.4"
  }
 },
 "nbformat": 4,
 "nbformat_minor": 2
}
