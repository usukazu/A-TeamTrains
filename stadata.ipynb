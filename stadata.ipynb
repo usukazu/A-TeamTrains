{
 "cells": [
  {
   "cell_type": "code",
   "execution_count": 1,
   "metadata": {},
   "outputs": [],
   "source": [
    "import os\n",
    "import sys\n",
    "import pathlib\n",
    "import json\n",
    "import itertools\n",
    "import codecs\n",
    "import requests\n",
    "import copy"
   ]
  },
  {
   "cell_type": "code",
   "execution_count": 8,
   "metadata": {},
   "outputs": [],
   "source": [
    "def json_make():\n",
    "    \n",
    "    stationcode=22715\n",
    "    date=20201102\n",
    "\n",
    "    url=\"https://api.apigw.smt.docomo.ne.jp/ekispertCorp/v1/stationTimetable?APIKEY=45714e327a445136424e74397346526346544a4d6865507a366d7a73342f334c636942663646573162322e&date=\"+str()data+\"&stationCode=\"+str(stationcode)\n",
    "    r = requests.get(url)\n",
    "    data = json.loads(r.text)\n",
    "    \n",
    "    resultset={}\n",
    "    linelist = data['ResultSet']['TimeTable']\n",
    "\n",
    "    resultset[\"Station\"]=linelist[0][\"Station\"][\"Name\"]\n",
    "    resultset[\"Linelist\"]=[]\n",
    "    \n",
    "    result={}\n",
    "    for line in linelist:\n",
    "        url=\"https://api.apigw.smt.docomo.ne.jp/ekispertCorp/v1/stationTimetable?APIKEY=45714e327a445136424e74397346526346544a4d6865507a366d7a73342f334c636942663646573162322e&stationCode=\"+str(stationcode)+\"&date=\"+str()data+\"&code=\"+str(line['code'])\n",
    "        r = requests.get(url)\n",
    "        linedata = json.loads(r.text)\n",
    "        hour = linedata['ResultSet']['TimeTable']['HourTable']\n",
    "        result[\"Line\"]=linedata['ResultSet']['TimeTable']['Line']['Name']+linedata['ResultSet']['TimeTable']['Line']['Direction']+\"方面\"\n",
    "        result[\"Linecode\"]=linedata['ResultSet']['TimeTable']['code']\n",
    "        result[\"HourTable\"]=[]\n",
    "        gokei=0\n",
    "\n",
    "        if \"MinuteTable\" in hour:\n",
    "            result[\"HourTable\"].append({\"Hour\":hour['Hour'],\"number\":1})\n",
    "            gokei=1\n",
    "        else:\n",
    "            for h in hour:\n",
    "                if \"MinuteTable\" in h:\n",
    "                    number=len(h['MinuteTable'])\n",
    "                    if \"Minute\" in h['MinuteTable']:number-=1\n",
    "                    result[\"HourTable\"].append({\"Hour\":h['Hour'],\"number\":str(number)})\n",
    "                    gokei+=number\n",
    "        result[\"Sum\"]=str(gokei)\n",
    "        \n",
    "        resultset[\"Linelist\"].append(copy.deepcopy(result))\n",
    "\n",
    "        # ensure_ascii=Falseをつけることで、日本語エンコードを回避\n",
    "    #print(resultset)\n",
    "    expfile = codecs.open(\"./INresults/in01.json\", 'w', 'utf-8')\n",
    "    json.dump(resultset, expfile, indent=4, ensure_ascii=False)\n",
    "\n",
    "\n",
    "# 出力フォルダがなければ作成\n",
    "exp = pathlib.Path('./INresults')\n",
    "if exp.exists() is False:\n",
    "    exp.mkdir()\n",
    "\n",
    "json_make()"
   ]
  },
  {
   "cell_type": "code",
   "execution_count": null,
   "metadata": {},
   "outputs": [],
   "source": []
  }
 ],
 "metadata": {
  "kernelspec": {
   "display_name": "Python 3",
   "language": "python",
   "name": "python3"
  },
  "language_info": {
   "codemirror_mode": {
    "name": "ipython",
    "version": 3
   },
   "file_extension": ".py",
   "mimetype": "text/x-python",
   "name": "python",
   "nbconvert_exporter": "python",
   "pygments_lexer": "ipython3",
   "version": "3.7.4"
  }
 },
 "nbformat": 4,
 "nbformat_minor": 2
}
