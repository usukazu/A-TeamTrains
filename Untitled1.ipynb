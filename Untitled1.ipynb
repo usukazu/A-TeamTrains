{
 "cells": [
  {
   "cell_type": "code",
   "execution_count": 5,
   "metadata": {},
   "outputs": [],
   "source": [
    "import os\n",
    "import sys\n",
    "import pathlib\n",
    "import json\n",
    "import itertools\n",
    "import codecs\n",
    "import requests\n",
    "import copy"
   ]
  },
  {
   "cell_type": "code",
   "execution_count": 6,
   "metadata": {},
   "outputs": [
    {
     "ename": "KeyError",
     "evalue": "'TimeTable'",
     "output_type": "error",
     "traceback": [
      "\u001b[1;31m---------------------------------------------------------------------------\u001b[0m",
      "\u001b[1;31mKeyError\u001b[0m                                  Traceback (most recent call last)",
      "\u001b[1;32m<ipython-input-6-b7b9e56fb687>\u001b[0m in \u001b[0;36m<module>\u001b[1;34m\u001b[0m\n\u001b[0;32m     59\u001b[0m     \u001b[0mexp\u001b[0m\u001b[1;33m.\u001b[0m\u001b[0mmkdir\u001b[0m\u001b[1;33m(\u001b[0m\u001b[1;33m)\u001b[0m\u001b[1;33m\u001b[0m\u001b[1;33m\u001b[0m\u001b[0m\n\u001b[0;32m     60\u001b[0m \u001b[1;33m\u001b[0m\u001b[0m\n\u001b[1;32m---> 61\u001b[1;33m \u001b[0mjson_make\u001b[0m\u001b[1;33m(\u001b[0m\u001b[1;33m)\u001b[0m\u001b[1;33m\u001b[0m\u001b[1;33m\u001b[0m\u001b[0m\n\u001b[0m",
      "\u001b[1;32m<ipython-input-6-b7b9e56fb687>\u001b[0m in \u001b[0;36mjson_make\u001b[1;34m()\u001b[0m\n\u001b[0;32m     15\u001b[0m         \u001b[0mr\u001b[0m \u001b[1;33m=\u001b[0m \u001b[0mrequests\u001b[0m\u001b[1;33m.\u001b[0m\u001b[0mget\u001b[0m\u001b[1;33m(\u001b[0m\u001b[0murl\u001b[0m\u001b[1;33m)\u001b[0m\u001b[1;33m\u001b[0m\u001b[1;33m\u001b[0m\u001b[0m\n\u001b[0;32m     16\u001b[0m         \u001b[0mlinedata\u001b[0m \u001b[1;33m=\u001b[0m \u001b[0mjson\u001b[0m\u001b[1;33m.\u001b[0m\u001b[0mloads\u001b[0m\u001b[1;33m(\u001b[0m\u001b[0mr\u001b[0m\u001b[1;33m.\u001b[0m\u001b[0mtext\u001b[0m\u001b[1;33m)\u001b[0m\u001b[1;33m\u001b[0m\u001b[1;33m\u001b[0m\u001b[0m\n\u001b[1;32m---> 17\u001b[1;33m         \u001b[0mhour\u001b[0m \u001b[1;33m=\u001b[0m \u001b[0mlinedata\u001b[0m\u001b[1;33m[\u001b[0m\u001b[1;34m'ResultSet'\u001b[0m\u001b[1;33m]\u001b[0m\u001b[1;33m[\u001b[0m\u001b[1;34m'TimeTable'\u001b[0m\u001b[1;33m]\u001b[0m\u001b[1;33m[\u001b[0m\u001b[1;34m'HourTable'\u001b[0m\u001b[1;33m]\u001b[0m\u001b[1;33m\u001b[0m\u001b[1;33m\u001b[0m\u001b[0m\n\u001b[0m\u001b[0;32m     18\u001b[0m         \u001b[0mresult\u001b[0m\u001b[1;33m[\u001b[0m\u001b[1;34m\"Line\"\u001b[0m\u001b[1;33m]\u001b[0m\u001b[1;33m=\u001b[0m\u001b[0mlinedata\u001b[0m\u001b[1;33m[\u001b[0m\u001b[1;34m'ResultSet'\u001b[0m\u001b[1;33m]\u001b[0m\u001b[1;33m[\u001b[0m\u001b[1;34m'TimeTable'\u001b[0m\u001b[1;33m]\u001b[0m\u001b[1;33m[\u001b[0m\u001b[1;34m'Line'\u001b[0m\u001b[1;33m]\u001b[0m\u001b[1;33m[\u001b[0m\u001b[1;34m'Name'\u001b[0m\u001b[1;33m]\u001b[0m\u001b[1;33m+\u001b[0m\u001b[0mlinedata\u001b[0m\u001b[1;33m[\u001b[0m\u001b[1;34m'ResultSet'\u001b[0m\u001b[1;33m]\u001b[0m\u001b[1;33m[\u001b[0m\u001b[1;34m'TimeTable'\u001b[0m\u001b[1;33m]\u001b[0m\u001b[1;33m[\u001b[0m\u001b[1;34m'Line'\u001b[0m\u001b[1;33m]\u001b[0m\u001b[1;33m[\u001b[0m\u001b[1;34m'Direction'\u001b[0m\u001b[1;33m]\u001b[0m\u001b[1;33m+\u001b[0m\u001b[1;34m\"方面\"\u001b[0m\u001b[1;33m\u001b[0m\u001b[1;33m\u001b[0m\u001b[0m\n\u001b[0;32m     19\u001b[0m         \u001b[0mresult\u001b[0m\u001b[1;33m[\u001b[0m\u001b[1;34m\"Linecode\"\u001b[0m\u001b[1;33m]\u001b[0m\u001b[1;33m=\u001b[0m\u001b[0mlinedata\u001b[0m\u001b[1;33m[\u001b[0m\u001b[1;34m'ResultSet'\u001b[0m\u001b[1;33m]\u001b[0m\u001b[1;33m[\u001b[0m\u001b[1;34m'TimeTable'\u001b[0m\u001b[1;33m]\u001b[0m\u001b[1;33m[\u001b[0m\u001b[1;34m'code'\u001b[0m\u001b[1;33m]\u001b[0m\u001b[1;33m\u001b[0m\u001b[1;33m\u001b[0m\u001b[0m\n",
      "\u001b[1;31mKeyError\u001b[0m: 'TimeTable'"
     ]
    }
   ],
   "source": [
    "def json_make():\n",
    "\n",
    "    jsonfile = open('komabasta.json', 'r',encoding='utf-8')\n",
    "    data = json.load(jsonfile)\n",
    "    \n",
    "    resultset={}\n",
    "    linelist = data['ResultSet']['TimeTable']\n",
    "    #resultset[\"Station\"]=data[1]['Station']['Name']\n",
    "    resultset[\"Linelist\"]=[]\n",
    "    \n",
    "    result={}\n",
    "    resultset[\"Station\"]=linelist[0][\"Station\"][\"Name\"]\n",
    "    for line in linelist:\n",
    "        url=\"https://api.apigw.smt.docomo.ne.jp/ekispertCorp/v1/stationTimetable?APIKEY=45714e327a445136424e74397346526346544a4d6865507a366d7a73342f334c636942663646573162322e&stationCode=22685&date=20201102&code=\"+str(line['code'])\n",
    "        r = requests.get(url)\n",
    "        linedata = json.loads(r.text)\n",
    "        hour = linedata['ResultSet']['TimeTable']['HourTable']\n",
    "        result[\"Line\"]=linedata['ResultSet']['TimeTable']['Line']['Name']+linedata['ResultSet']['TimeTable']['Line']['Direction']+\"方面\"\n",
    "        result[\"Linecode\"]=linedata['ResultSet']['TimeTable']['code']\n",
    "        result[\"Weekday\"]={}\n",
    "        result[\"Weekday\"][\"HourTable\"]=[]\n",
    "        gokei=0\n",
    "        for h in hour:\n",
    "            number=len(h['MinuteTable'])\n",
    "            if \"Minute\" in h['MinuteTable']:number-=1\n",
    "            result[\"Weekday\"][\"HourTable\"].append({\"Hour\":h['Hour'],\"number\":str(number)})\n",
    "            gokei+=number\n",
    "        result[\"Weekday\"][\"Sum\"]=str(gokei)\n",
    "        \n",
    "        url=\"https://api.apigw.smt.docomo.ne.jp/ekispertCorp/v1/stationTimetable?APIKEY=45714e327a445136424e74397346526346544a4d6865507a366d7a73342f334c636942663646573162322e&stationCode=22685&date=20201101&code=\"+str(line['code'])\n",
    "        r = requests.get(url)\n",
    "        linedata = json.loads(r.text)\n",
    "        hour = linedata['ResultSet']['TimeTable']['HourTable']\n",
    "        result[\"Holiday\"]={}\n",
    "        result[\"Holiday\"][\"HourTable\"]=[]\n",
    "        gokei=0\n",
    "        for h in hour:\n",
    "            number=len(h['MinuteTable'])\n",
    "            if \"Minute\" in h['MinuteTable']:number-=1\n",
    "            result[\"Holiday\"][\"HourTable\"].append({\"Hour\":h['Hour'],\"number\":str(number)})\n",
    "            gokei+=number\n",
    "        result[\"Holiday\"][\"Sum\"]=str(gokei)\n",
    "        \n",
    "        resultset[\"Linelist\"].append(copy.deepcopy(result))\n",
    "\n",
    "        # ensure_ascii=Falseをつけることで、日本語エンコードを回避\n",
    "    #print(resultset)\n",
    "    expfile = codecs.open(\"./results/in01.json\", 'w', 'utf-8')\n",
    "    json.dump(resultset, expfile, ensure_ascii=False)\n",
    "\n",
    "\n",
    "# ファイルがなければ処理しない\n",
    "if os.path.exists('komabasta.json') is False:\n",
    "    sys.exit()\n",
    "\n",
    "# 出力フォルダがなければ作成\n",
    "exp = pathlib.Path('./results')\n",
    "if exp.exists() is False:\n",
    "    exp.mkdir()\n",
    "\n",
    "json_make()"
   ]
  },
  {
   "cell_type": "code",
   "execution_count": null,
   "metadata": {},
   "outputs": [],
   "source": []
  }
 ],
 "metadata": {
  "kernelspec": {
   "display_name": "Python 3",
   "language": "python",
   "name": "python3"
  },
  "language_info": {
   "codemirror_mode": {
    "name": "ipython",
    "version": 3
   },
   "file_extension": ".py",
   "mimetype": "text/x-python",
   "name": "python",
   "nbconvert_exporter": "python",
   "pygments_lexer": "ipython3",
   "version": "3.7.4"
  }
 },
 "nbformat": 4,
 "nbformat_minor": 2
}
